{
 "cells": [
  {
   "cell_type": "markdown",
   "metadata": {},
   "source": [
    "# Domain Recency"
   ]
  },
  {
   "cell_type": "code",
   "execution_count": 5,
   "metadata": {},
   "outputs": [
    {
     "name": "stdout",
     "output_type": "stream",
     "text": [
      "Requirement already satisfied: python-whois in /Users/monisha.patel/opt/anaconda3/lib/python3.7/site-packages (0.7.2)\n",
      "Requirement already satisfied: future in /Users/monisha.patel/opt/anaconda3/lib/python3.7/site-packages (from python-whois) (0.17.1)\n",
      "Note: you may need to restart the kernel to use updated packages.\n"
     ]
    }
   ],
   "source": [
    "pip install python-whois"
   ]
  },
  {
   "cell_type": "code",
   "execution_count": 6,
   "metadata": {},
   "outputs": [
    {
     "name": "stdout",
     "output_type": "stream",
     "text": [
      "Requirement already satisfied: pandas in /Users/monisha.patel/opt/anaconda3/lib/python3.7/site-packages (0.25.1)\n",
      "Requirement already satisfied: python-dateutil>=2.6.1 in /Users/monisha.patel/opt/anaconda3/lib/python3.7/site-packages (from pandas) (2.8.0)\n",
      "Requirement already satisfied: numpy>=1.13.3 in /Users/monisha.patel/opt/anaconda3/lib/python3.7/site-packages (from pandas) (1.17.2)\n",
      "Requirement already satisfied: pytz>=2017.2 in /Users/monisha.patel/opt/anaconda3/lib/python3.7/site-packages (from pandas) (2019.3)\n",
      "Requirement already satisfied: six>=1.5 in /Users/monisha.patel/opt/anaconda3/lib/python3.7/site-packages (from python-dateutil>=2.6.1->pandas) (1.12.0)\n",
      "Note: you may need to restart the kernel to use updated packages.\n"
     ]
    }
   ],
   "source": [
    "pip install pandas"
   ]
  },
  {
   "cell_type": "code",
   "execution_count": 7,
   "metadata": {},
   "outputs": [
    {
     "name": "stdout",
     "output_type": "stream",
     "text": [
      "Requirement already satisfied: tldextract in /Users/monisha.patel/opt/anaconda3/lib/python3.7/site-packages (2.2.2)\n",
      "Requirement already satisfied: idna in /Users/monisha.patel/opt/anaconda3/lib/python3.7/site-packages (from tldextract) (2.8)\n",
      "Requirement already satisfied: requests-file>=1.4 in /Users/monisha.patel/opt/anaconda3/lib/python3.7/site-packages (from tldextract) (1.4.3)\n",
      "Requirement already satisfied: requests>=2.1.0 in /Users/monisha.patel/opt/anaconda3/lib/python3.7/site-packages (from tldextract) (2.22.0)\n",
      "Requirement already satisfied: setuptools in /Users/monisha.patel/opt/anaconda3/lib/python3.7/site-packages (from tldextract) (41.4.0)\n",
      "Requirement already satisfied: six in /Users/monisha.patel/opt/anaconda3/lib/python3.7/site-packages (from requests-file>=1.4->tldextract) (1.12.0)\n",
      "Requirement already satisfied: chardet<3.1.0,>=3.0.2 in /Users/monisha.patel/opt/anaconda3/lib/python3.7/site-packages (from requests>=2.1.0->tldextract) (3.0.4)\n",
      "Requirement already satisfied: urllib3!=1.25.0,!=1.25.1,<1.26,>=1.21.1 in /Users/monisha.patel/opt/anaconda3/lib/python3.7/site-packages (from requests>=2.1.0->tldextract) (1.24.2)\n",
      "Requirement already satisfied: certifi>=2017.4.17 in /Users/monisha.patel/opt/anaconda3/lib/python3.7/site-packages (from requests>=2.1.0->tldextract) (2019.9.11)\n",
      "Note: you may need to restart the kernel to use updated packages.\n"
     ]
    }
   ],
   "source": [
    "pip install tldextract"
   ]
  },
  {
   "cell_type": "markdown",
   "metadata": {},
   "source": [
    "### Few country servers like .de (Germany), .su (Russion) does not provide whois information"
   ]
  },
  {
   "cell_type": "code",
   "execution_count": 8,
   "metadata": {},
   "outputs": [],
   "source": [
    "import whois\n",
    "import pandas as pd\n",
    "import tldextract\n",
    "import time"
   ]
  },
  {
   "cell_type": "code",
   "execution_count": 9,
   "metadata": {},
   "outputs": [],
   "source": [
    "def whoisDomain(data):\n",
    "    w = whois.whois(data)\n",
    "    return w"
   ]
  },
  {
   "cell_type": "code",
   "execution_count": 10,
   "metadata": {},
   "outputs": [],
   "source": [
    "def DomainRecency(data):\n",
    "    w = whoisDomain(data)\n",
    "    try:\n",
    "        x = w.creation_date\n",
    "    except:\n",
    "        pass    \n",
    "    try:\n",
    "        x = w.creation_date[1]\n",
    "    except:\n",
    "        pass    \n",
    "    \n",
    "    try:\n",
    "        diff = pd.datetime.now() - x\n",
    "        day = diff.days\n",
    "    except:\n",
    "        day = \"unknown\"\n",
    "    return day\n",
    "\n",
    "\n",
    "def Country(data):\n",
    "    time.sleep(1);\n",
    "    w = whoisDomain(data)\n",
    "    try:\n",
    "        suf = tldextract.extract(data).suffix\n",
    "        if w.country:\n",
    "            country = w.country\n",
    "        elif suf == 'de':\n",
    "            country = 'Germany'\n",
    "        elif suf == 'su':\n",
    "            country = \"Russia\"\n",
    "        else:\n",
    "            country = \"unknown\"\n",
    "    except:\n",
    "        country = \"unknown\"\n",
    "    return country"
   ]
  },
  {
   "cell_type": "code",
   "execution_count": null,
   "metadata": {},
   "outputs": [],
   "source": []
  },
  {
   "cell_type": "code",
   "execution_count": null,
   "metadata": {},
   "outputs": [],
   "source": []
  },
  {
   "cell_type": "code",
   "execution_count": null,
   "metadata": {},
   "outputs": [],
   "source": []
  },
  {
   "cell_type": "code",
   "execution_count": 12,
   "metadata": {},
   "outputs": [
    {
     "name": "stdout",
     "output_type": "stream",
     "text": [
      "Enter Domain, dont include http://www : tesla.com\n",
      "tesla.com website was created 9883 days back and was registered in US country\n"
     ]
    }
   ],
   "source": [
    "data = input(\"Enter Domain, dont include http://www : \")\n",
    "\n",
    "print(\"{} website was created {} days back and was registered in {} country\" \n",
    "      .format(data, DomainRecency(data), Country(data)))"
   ]
  }
 ],
 "metadata": {
  "kernelspec": {
   "display_name": "Python 3",
   "language": "python",
   "name": "python3"
  },
  "language_info": {
   "codemirror_mode": {
    "name": "ipython",
    "version": 3
   },
   "file_extension": ".py",
   "mimetype": "text/x-python",
   "name": "python",
   "nbconvert_exporter": "python",
   "pygments_lexer": "ipython3",
   "version": "3.7.4"
  }
 },
 "nbformat": 4,
 "nbformat_minor": 2
}
